{
 "cells": [
  {
   "cell_type": "code",
   "execution_count": 1,
   "metadata": {
    "collapsed": false,
    "deletable": true,
    "editable": true
   },
   "outputs": [],
   "source": [
    "import numpy as np\n",
    "import matplotlib.pyplot as plt\n",
    "from sklearn.model_selection import KFold\n",
    "import sys\n",
    "sys.path.append(\"/Users/gdouzas/Main/public-projects/stack-learn\")\n",
    "from stacklearn.metalearners import SuperLearnerRegressor, StackRegressor, SuperLearnerClassifier, StackRegressor"
   ]
  },
  {
   "cell_type": "code",
   "execution_count": null,
   "metadata": {
    "collapsed": false,
    "deletable": true,
    "editable": true
   },
   "outputs": [],
   "source": [
    "X = np.random.uniform(low=-4, high=4, size=100)\n",
    "X_sorted = np.sort(X).reshape(-1, 1)\n",
    "X_plot = np.arange(-4, 4, 0.01)\n",
    "e = np.random.normal(size = 100)\n",
    "\n",
    "def curve1(X, e):\n",
    "    return -2 * np.int64(X < -3) + 2.55 * np.int64(X > -2) - 2 * np.int64(X > 0) + 4 * np.int64(X > 2) - np.int64(X > 3) + e\n",
    "\n",
    "def curve2(X, e):\n",
    "    return 6 + 0.4 * X - 0.36 * X ** 2 + 0.005 * X ** 3 + e\n",
    "\n",
    "def curve3(X, e):\n",
    "    return 2.83 * np.sin(np.pi * X / 2) + e\n",
    "\n",
    "def curve4(X, e): \n",
    "    return 4 * np.sin(3 * np.pi * X) * np.int64(X > 0) + e\n",
    "\n",
    "curves = [curve1, curve2, curve3, curve4]\n",
    "\n",
    "slr = StackRegressor()\n",
    "\n",
    "lines = []\n",
    "for curve_id, curve in enumerate(curves):\n",
    "    if curve_id < 2:\n",
    "        plt.figure(1)\n",
    "        plt.subplot(1, 2, curve_id + 1)\n",
    "    else:\n",
    "        plt.figure(2)\n",
    "        plt.subplot(1, 2, curve_id - 1)\n",
    "    slr.fit(X.reshape(-1, 1), curve(X, e))\n",
    "    plt.plot(X, curve(X, e), \"bo\", X_plot, curve(X_plot, 0), \"r\", X_sorted, slr.predict(X_sorted), \"g--\", ms=2)\n",
    "    plt.xlabel(\"X\")\n",
    "    plt.ylabel(\"Y\")\n",
    "plt.legend((\"Simulated points\",\"True model\",\"Super Learner fit\"), ncol=3, bbox_to_anchor=(0, -0.2), loc=\"upper center\")\n",
    "plt.show()"
   ]
  },
  {
   "cell_type": "code",
   "execution_count": null,
   "metadata": {
    "collapsed": true
   },
   "outputs": [],
   "source": []
  }
 ],
 "metadata": {
  "kernelspec": {
   "display_name": "Python 3",
   "language": "python",
   "name": "python3"
  },
  "language_info": {
   "codemirror_mode": {
    "name": "ipython",
    "version": 3
   },
   "file_extension": ".py",
   "mimetype": "text/x-python",
   "name": "python",
   "nbconvert_exporter": "python",
   "pygments_lexer": "ipython3",
   "version": "3.6.0"
  }
 },
 "nbformat": 4,
 "nbformat_minor": 1
}
