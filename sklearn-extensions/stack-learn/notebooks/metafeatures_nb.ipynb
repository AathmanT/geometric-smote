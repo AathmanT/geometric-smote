{
 "cells": [
  {
   "cell_type": "code",
   "execution_count": 1,
   "metadata": {
    "collapsed": true,
    "deletable": true,
    "editable": true
   },
   "outputs": [],
   "source": [
    "import sys\n",
    "sys.path.append(\"/Users/gdouzas/Main/public-projects/stack-learn\")\n",
    "from stacklearn.metafeatures import CrossValidationExtractor\n",
    "from sklearn import datasets"
   ]
  },
  {
   "cell_type": "code",
   "execution_count": 2,
   "metadata": {
    "collapsed": true,
    "deletable": true,
    "editable": true
   },
   "outputs": [],
   "source": [
    "cve = CrossValidationExtractor()"
   ]
  },
  {
   "cell_type": "code",
   "execution_count": 3,
   "metadata": {
    "collapsed": true,
    "deletable": true,
    "editable": true
   },
   "outputs": [],
   "source": [
    "ds = datasets.load_iris()\n",
    "X, y = ds.data, ds.target"
   ]
  },
  {
   "cell_type": "code",
   "execution_count": 4,
   "metadata": {
    "collapsed": false,
    "deletable": true,
    "editable": true
   },
   "outputs": [],
   "source": [
    "out = cve.fit_transform(X, y)"
   ]
  },
  {
   "cell_type": "code",
   "execution_count": 5,
   "metadata": {
    "collapsed": false,
    "deletable": true,
    "editable": true
   },
   "outputs": [
    {
     "data": {
      "text/plain": [
       "array([[  8.81724639e-01,   1.18186540e-01,   8.88207789e-05, ...,\n",
       "          9.99895266e-01,   9.29798035e-05,   1.17540574e-05],\n",
       "       [  8.13297035e-01,   1.86499107e-01,   2.03858031e-04, ...,\n",
       "          9.99835535e-01,   1.53279498e-04,   1.11859410e-05],\n",
       "       [  8.56692629e-01,   1.43127196e-01,   1.80175143e-04, ...,\n",
       "          9.99895266e-01,   9.29798035e-05,   1.17540574e-05],\n",
       "       ..., \n",
       "       [  2.80356216e-03,   3.20148626e-01,   6.77047812e-01, ...,\n",
       "          1.61050128e-05,   2.74742913e-05,   9.99956421e-01],\n",
       "       [  2.24804463e-03,   1.41235410e-01,   8.56516545e-01, ...,\n",
       "          2.09650519e-05,   8.85307896e-05,   9.99890504e-01],\n",
       "       [  3.31332949e-03,   2.60459278e-01,   7.36227392e-01, ...,\n",
       "          1.09072965e-04,   6.79363763e-04,   9.99211563e-01]])"
      ]
     },
     "execution_count": 5,
     "metadata": {},
     "output_type": "execute_result"
    }
   ],
   "source": [
    "out"
   ]
  }
 ],
 "metadata": {
  "kernelspec": {
   "display_name": "Python 3",
   "language": "python",
   "name": "python3"
  },
  "language_info": {
   "codemirror_mode": {
    "name": "ipython",
    "version": 3
   },
   "file_extension": ".py",
   "mimetype": "text/x-python",
   "name": "python",
   "nbconvert_exporter": "python",
   "pygments_lexer": "ipython3",
   "version": "3.6.0"
  }
 },
 "nbformat": 4,
 "nbformat_minor": 1
}
