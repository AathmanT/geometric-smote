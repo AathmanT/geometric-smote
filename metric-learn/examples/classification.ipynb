{
 "cells": [
  {
   "cell_type": "markdown",
   "metadata": {},
   "source": [
    "# 1 Introduction"
   ]
  },
  {
   "cell_type": "markdown",
   "metadata": {},
   "source": [
    "This notebook presents various classification metrics."
   ]
  },
  {
   "cell_type": "markdown",
   "metadata": {},
   "source": [
    "# 2 Imports"
   ]
  },
  {
   "cell_type": "code",
   "execution_count": 1,
   "metadata": {},
   "outputs": [],
   "source": [
    "from sklearn.linear_model import LogisticRegression\n",
    "from sklearn.datasets import load_breast_cancer\n",
    "from sklearn.model_selection import cross_val_score\n",
    "from metriclearn.classification import SCORERS"
   ]
  },
  {
   "cell_type": "markdown",
   "metadata": {},
   "source": [
    "# 3 CV scores"
   ]
  },
  {
   "cell_type": "code",
   "execution_count": 2,
   "metadata": {},
   "outputs": [],
   "source": [
    "clf = LogisticRegression()\n",
    "bc = load_breast_cancer()\n",
    "X, y = bc.data, bc.target"
   ]
  },
  {
   "cell_type": "code",
   "execution_count": 3,
   "metadata": {},
   "outputs": [
    {
     "name": "stdout",
     "output_type": "stream",
     "text": [
      "G-mean cross validation scores are 0.923, 0.960 and 0.945.\n",
      "True positives cross validation scores are 116, 118 and 111.\n",
      "True negatives cross validation scores are 62, 66 and 67.\n",
      "False positives cross validation scores are -9, -5 and -3.\n",
      "False negatives cross validation scores are -3, -1 and -8.\n"
     ]
    }
   ],
   "source": [
    "scoring = {'G-mean': 'geometric_mean_score', \n",
    "           'True positives': 'tp', \n",
    "           'True negatives': 'tn',\n",
    "           'False positives': 'fp',\n",
    "           'False negatives': 'fn'\n",
    "          }\n",
    "\n",
    "for scorer_name, scorer in scoring.items():\n",
    "    cv_scores = '{:.3f}, {:.3f} and {:.3f}.' if scorer_name == 'G-mean' else '{}, {} and {}.'\n",
    "    msg = '{} cross validation scores are ' + cv_scores\n",
    "    print(msg.format(scorer_name, *cross_val_score(clf, X, y, scoring = scorer)))"
   ]
  }
 ],
 "metadata": {
  "kernelspec": {
   "display_name": "Python 3",
   "language": "python",
   "name": "python3"
  },
  "language_info": {
   "codemirror_mode": {
    "name": "ipython",
    "version": 3
   },
   "file_extension": ".py",
   "mimetype": "text/x-python",
   "name": "python",
   "nbconvert_exporter": "python",
   "pygments_lexer": "ipython3",
   "version": "3.6.3"
  }
 },
 "nbformat": 4,
 "nbformat_minor": 2
}
