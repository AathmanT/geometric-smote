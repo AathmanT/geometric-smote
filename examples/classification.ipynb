{
 "cells": [
  {
   "cell_type": "markdown",
   "metadata": {},
   "source": [
    "# 1 Introduction"
   ]
  },
  {
   "cell_type": "markdown",
   "metadata": {},
   "source": [
    "This notebook demonstrates the functionality of hyperlearn module on binary class data."
   ]
  },
  {
   "cell_type": "markdown",
   "metadata": {},
   "source": [
    "# 2 Imports"
   ]
  },
  {
   "cell_type": "code",
   "execution_count": 1,
   "metadata": {},
   "outputs": [],
   "source": [
    "from hyperlearn.experiment import Experiment, read_csv_dir\n",
    "from sklearn.linear_model import LogisticRegression\n",
    "from sklearn.ensemble import GradientBoostingClassifier\n",
    "from imblearn.over_sampling import SMOTE"
   ]
  },
  {
   "cell_type": "markdown",
   "metadata": {},
   "source": [
    "# 3 Experiment"
   ]
  },
  {
   "cell_type": "markdown",
   "metadata": {},
   "source": [
    "##### 3.1 Configure experiment"
   ]
  },
  {
   "cell_type": "code",
   "execution_count": 2,
   "metadata": {},
   "outputs": [],
   "source": [
    "datasets = read_csv_dir('/Users/gdouzas/Projects/reproducible-research/data/uci')[3:6]\n",
    "\n",
    "smote_grid = [{'kind': ['borderline1', 'borderline2'], 'k_neighbors': [2, 3]}, {'k_neighbors': [2, 3]}]\n",
    "gbc_grid = [{'n_estimators': [50, 100], 'max_depth':[3, 5]}, {'max_depth':[2, 6]}]\n",
    "\n",
    "lr = [\n",
    "    ('smote', SMOTE(), smote_grid),\n",
    "    ('lr', LogisticRegression())\n",
    "]\n",
    "gbc = [\n",
    "    ('smote', SMOTE(), smote_grid), \n",
    "    ('gbc', GradientBoostingClassifier(), gbc_grid)\n",
    "]\n",
    "estimators = [lr, gbc]"
   ]
  },
  {
   "cell_type": "code",
   "execution_count": 3,
   "metadata": {},
   "outputs": [],
   "source": [
    "experiment = Experiment(datasets, estimators, n_jobs=-1)"
   ]
  },
  {
   "cell_type": "markdown",
   "metadata": {},
   "source": [
    "#### 3.2 Run experiment"
   ]
  },
  {
   "cell_type": "code",
   "execution_count": 4,
   "metadata": {},
   "outputs": [
    {
     "name": "stderr",
     "output_type": "stream",
     "text": [
      "100% (30 of 30) |#########################| Elapsed Time: 0:00:19 ETA:  0:00:00"
     ]
    }
   ],
   "source": [
    "experiment.run()"
   ]
  }
 ],
 "metadata": {
  "kernelspec": {
   "display_name": "Python 3",
   "language": "python",
   "name": "python3"
  },
  "language_info": {
   "codemirror_mode": {
    "name": "ipython",
    "version": 3
   },
   "file_extension": ".py",
   "mimetype": "text/x-python",
   "name": "python",
   "nbconvert_exporter": "python",
   "pygments_lexer": "ipython3",
   "version": "3.6.3"
  }
 },
 "nbformat": 4,
 "nbformat_minor": 2
}
