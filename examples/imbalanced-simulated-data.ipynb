{
 "cells": [
  {
   "cell_type": "markdown",
   "metadata": {},
   "source": [
    "# 1 Introduction"
   ]
  },
  {
   "cell_type": "markdown",
   "metadata": {},
   "source": [
    "This notebook demonstrates the functionality of imbtools.evaluation module on simulated imbalanced data."
   ]
  },
  {
   "cell_type": "markdown",
   "metadata": {},
   "source": [
    "# 2 Imports"
   ]
  },
  {
   "cell_type": "code",
   "execution_count": 1,
   "metadata": {
    "collapsed": true
   },
   "outputs": [],
   "source": [
    "from sklearn.linear_model import LogisticRegression\n",
    "from sklearn.tree import DecisionTreeClassifier\n",
    "from sklearn.datasets import make_classification\n",
    "from imblearn.over_sampling import SMOTE, RandomOverSampler\n",
    "from imbtools.evaluation import BinaryExperiment\n",
    "from imbtools.evaluation import summarize_datasets, calculate_stats, calculate_optimal_stats, calculate_optimal_stats_wide\n",
    "from imbtools.evaluation import calculate_ranking, calculate_mean_ranking, calculate_friedman_test\n",
    "from imbtools.evaluation import load_experiment\n",
    "from imbtools.utils import _flatten_parameters_list"
   ]
  },
  {
   "cell_type": "markdown",
   "metadata": {},
   "source": [
    "# 3 Simulate data"
   ]
  },
  {
   "cell_type": "markdown",
   "metadata": {},
   "source": [
    "#### 3.1 Datasets parameters"
   ]
  },
  {
   "cell_type": "code",
   "execution_count": 2,
   "metadata": {
    "collapsed": true
   },
   "outputs": [],
   "source": [
    "datasets_param_grid = [\n",
    "    {\n",
    "    \"n_classes\": [2],\n",
    "    \"class_sep\": [0.9, 2], \n",
    "    \"n_clusters_per_class\": [1, 2], \n",
    "    \"weights\": [[0.95, 0.05]], \n",
    "    \"n_samples\": [500, 1000], \n",
    "    \"n_features\": [10], \n",
    "    \"n_redundant\": [0], \n",
    "    \"random_state\": [5]\n",
    "    }, \n",
    "    {\n",
    "    \"n_classes\": [2],\n",
    "    \"class_sep\": [1], \n",
    "    \"n_clusters_per_class\": [1, 2, 3], \n",
    "    \"weights\": [[0.85, 0.15]], \n",
    "    \"n_samples\": [500, 1000], \n",
    "    \"n_features\": [5], \n",
    "    \"n_informative\": [3], \n",
    "    \"random_state\": [5]\n",
    "    }\n",
    "]\n",
    "\n",
    "datasets_parameters = _flatten_parameters_list(datasets_param_grid)"
   ]
  },
  {
   "cell_type": "markdown",
   "metadata": {},
   "source": [
    "#### 3.2 Append datasets to container"
   ]
  },
  {
   "cell_type": "code",
   "execution_count": 3,
   "metadata": {
    "collapsed": true
   },
   "outputs": [],
   "source": [
    "imbalanced_datasets = []\n",
    "for ind, parameters in enumerate(datasets_parameters):\n",
    "    imbalanced_datasets.append((\"dataset\" + str(ind + 1), make_classification(**parameters)))"
   ]
  },
  {
   "cell_type": "markdown",
   "metadata": {},
   "source": [
    "# 4 Experiment"
   ]
  },
  {
   "cell_type": "markdown",
   "metadata": {},
   "source": [
    "##### 4.1 Configure experiment"
   ]
  },
  {
   "cell_type": "code",
   "execution_count": 4,
   "metadata": {
    "collapsed": true
   },
   "outputs": [],
   "source": [
    "dt_param_grid = [{'max_depth': [2, 5]}, {'criterion': ['gini', 'entropy']}]\n",
    "classifiers = [(\"LR\", LogisticRegression()), (\"DT\", DecisionTreeClassifier(), dt_param_grid)]"
   ]
  },
  {
   "cell_type": "code",
   "execution_count": 5,
   "metadata": {
    "collapsed": true
   },
   "outputs": [],
   "source": [
    "smote_param_grid = [{'k_neighbors': [3, 6]}]\n",
    "oversamplers = [(\"No oversampling\", None), (\"Random oversampler\", RandomOverSampler()), (\"SMOTE\", SMOTE(), smote_param_grid)]"
   ]
  },
  {
   "cell_type": "code",
   "execution_count": 6,
   "metadata": {
    "collapsed": true
   },
   "outputs": [],
   "source": [
    "scoring=['roc_auc', 'f1', 'geometric_mean_score', 'tp', 'tn']"
   ]
  },
  {
   "cell_type": "code",
   "execution_count": 7,
   "metadata": {
    "collapsed": true
   },
   "outputs": [],
   "source": [
    "experiment = BinaryExperiment(imbalanced_datasets, classifiers, oversamplers, scoring=scoring, random_state=1)"
   ]
  },
  {
   "cell_type": "markdown",
   "metadata": {},
   "source": [
    "#### 4.2 Run experiment"
   ]
  },
  {
   "cell_type": "code",
   "execution_count": 8,
   "metadata": {},
   "outputs": [
    {
     "name": "stderr",
     "output_type": "stream",
     "text": [
      " 99% (1399 of 1400) |##################################################### | Elapsed Time: 0:00:52 ETA: 0:00:00"
     ]
    }
   ],
   "source": [
    "experiment.run()"
   ]
  },
  {
   "cell_type": "markdown",
   "metadata": {},
   "source": [
    "#### 4.3 Datasets summary"
   ]
  },
  {
   "cell_type": "code",
   "execution_count": 9,
   "metadata": {},
   "outputs": [
    {
     "data": {
      "text/html": [
       "<div>\n",
       "<table border=\"1\" class=\"dataframe\">\n",
       "  <thead>\n",
       "    <tr style=\"text-align: right;\">\n",
       "      <th></th>\n",
       "      <th>Dataset name</th>\n",
       "      <th># of features</th>\n",
       "      <th># of instances</th>\n",
       "      <th># of minority instances</th>\n",
       "      <th># of majority instances</th>\n",
       "      <th>Imbalance Ratio</th>\n",
       "    </tr>\n",
       "  </thead>\n",
       "  <tbody>\n",
       "    <tr>\n",
       "      <th>0</th>\n",
       "      <td>dataset1</td>\n",
       "      <td>10</td>\n",
       "      <td>500</td>\n",
       "      <td>29</td>\n",
       "      <td>471</td>\n",
       "      <td>16.24</td>\n",
       "    </tr>\n",
       "    <tr>\n",
       "      <th>1</th>\n",
       "      <td>dataset2</td>\n",
       "      <td>10</td>\n",
       "      <td>1000</td>\n",
       "      <td>54</td>\n",
       "      <td>946</td>\n",
       "      <td>17.52</td>\n",
       "    </tr>\n",
       "    <tr>\n",
       "      <th>2</th>\n",
       "      <td>dataset3</td>\n",
       "      <td>10</td>\n",
       "      <td>500</td>\n",
       "      <td>27</td>\n",
       "      <td>473</td>\n",
       "      <td>17.52</td>\n",
       "    </tr>\n",
       "    <tr>\n",
       "      <th>...</th>\n",
       "      <td>...</td>\n",
       "      <td>...</td>\n",
       "      <td>...</td>\n",
       "      <td>...</td>\n",
       "      <td>...</td>\n",
       "      <td>...</td>\n",
       "    </tr>\n",
       "    <tr>\n",
       "      <th>11</th>\n",
       "      <td>dataset12</td>\n",
       "      <td>5</td>\n",
       "      <td>1000</td>\n",
       "      <td>148</td>\n",
       "      <td>852</td>\n",
       "      <td>5.76</td>\n",
       "    </tr>\n",
       "    <tr>\n",
       "      <th>12</th>\n",
       "      <td>dataset13</td>\n",
       "      <td>5</td>\n",
       "      <td>500</td>\n",
       "      <td>77</td>\n",
       "      <td>423</td>\n",
       "      <td>5.49</td>\n",
       "    </tr>\n",
       "    <tr>\n",
       "      <th>13</th>\n",
       "      <td>dataset14</td>\n",
       "      <td>5</td>\n",
       "      <td>1000</td>\n",
       "      <td>150</td>\n",
       "      <td>850</td>\n",
       "      <td>5.67</td>\n",
       "    </tr>\n",
       "  </tbody>\n",
       "</table>\n",
       "<p>14 rows × 6 columns</p>\n",
       "</div>"
      ],
      "text/plain": [
       "   Dataset name  # of features  # of instances  # of minority instances  \\\n",
       "0      dataset1             10             500                       29   \n",
       "1      dataset2             10            1000                       54   \n",
       "2      dataset3             10             500                       27   \n",
       "..          ...            ...             ...                      ...   \n",
       "11    dataset12              5            1000                      148   \n",
       "12    dataset13              5             500                       77   \n",
       "13    dataset14              5            1000                      150   \n",
       "\n",
       "    # of majority instances  Imbalance Ratio  \n",
       "0                       471            16.24  \n",
       "1                       946            17.52  \n",
       "2                       473            17.52  \n",
       "..                      ...              ...  \n",
       "11                      852             5.76  \n",
       "12                      423             5.49  \n",
       "13                      850             5.67  \n",
       "\n",
       "[14 rows x 6 columns]"
      ]
     },
     "execution_count": 9,
     "metadata": {},
     "output_type": "execute_result"
    }
   ],
   "source": [
    "summarize_datasets(imbalanced_datasets)"
   ]
  },
  {
   "cell_type": "markdown",
   "metadata": {},
   "source": [
    "#### 4.4 Non aggregated results across experiments"
   ]
  },
  {
   "cell_type": "code",
   "execution_count": 10,
   "metadata": {},
   "outputs": [
    {
     "data": {
      "text/html": [
       "<div>\n",
       "<table border=\"1\" class=\"dataframe\">\n",
       "  <thead>\n",
       "    <tr style=\"text-align: right;\">\n",
       "      <th></th>\n",
       "      <th>Dataset</th>\n",
       "      <th>Classifier</th>\n",
       "      <th>Oversampler</th>\n",
       "      <th>Metric</th>\n",
       "      <th>CV score</th>\n",
       "    </tr>\n",
       "  </thead>\n",
       "  <tbody>\n",
       "    <tr>\n",
       "      <th>0</th>\n",
       "      <td>dataset1</td>\n",
       "      <td>LR</td>\n",
       "      <td>No oversampling</td>\n",
       "      <td>roc_auc</td>\n",
       "      <td>0.899764</td>\n",
       "    </tr>\n",
       "    <tr>\n",
       "      <th>1</th>\n",
       "      <td>dataset1</td>\n",
       "      <td>LR</td>\n",
       "      <td>No oversampling</td>\n",
       "      <td>f1</td>\n",
       "      <td>0.763889</td>\n",
       "    </tr>\n",
       "    <tr>\n",
       "      <th>2</th>\n",
       "      <td>dataset1</td>\n",
       "      <td>LR</td>\n",
       "      <td>No oversampling</td>\n",
       "      <td>geometric_mean_score</td>\n",
       "      <td>0.787874</td>\n",
       "    </tr>\n",
       "    <tr>\n",
       "      <th>...</th>\n",
       "      <td>...</td>\n",
       "      <td>...</td>\n",
       "      <td>...</td>\n",
       "      <td>...</td>\n",
       "      <td>...</td>\n",
       "    </tr>\n",
       "    <tr>\n",
       "      <th>6997</th>\n",
       "      <td>dataset14</td>\n",
       "      <td>DT4</td>\n",
       "      <td>SMOTE2</td>\n",
       "      <td>geometric_mean_score</td>\n",
       "      <td>0.809703</td>\n",
       "    </tr>\n",
       "    <tr>\n",
       "      <th>6998</th>\n",
       "      <td>dataset14</td>\n",
       "      <td>DT4</td>\n",
       "      <td>SMOTE2</td>\n",
       "      <td>tp</td>\n",
       "      <td>258.333333</td>\n",
       "    </tr>\n",
       "    <tr>\n",
       "      <th>6999</th>\n",
       "      <td>dataset14</td>\n",
       "      <td>DT4</td>\n",
       "      <td>SMOTE2</td>\n",
       "      <td>tn</td>\n",
       "      <td>36.000000</td>\n",
       "    </tr>\n",
       "  </tbody>\n",
       "</table>\n",
       "<p>7000 rows × 5 columns</p>\n",
       "</div>"
      ],
      "text/plain": [
       "        Dataset Classifier      Oversampler                Metric    CV score\n",
       "0      dataset1         LR  No oversampling               roc_auc    0.899764\n",
       "1      dataset1         LR  No oversampling                    f1    0.763889\n",
       "2      dataset1         LR  No oversampling  geometric_mean_score    0.787874\n",
       "...         ...        ...              ...                   ...         ...\n",
       "6997  dataset14        DT4           SMOTE2  geometric_mean_score    0.809703\n",
       "6998  dataset14        DT4           SMOTE2                    tp  258.333333\n",
       "6999  dataset14        DT4           SMOTE2                    tn   36.000000\n",
       "\n",
       "[7000 rows x 5 columns]"
      ]
     },
     "execution_count": 10,
     "metadata": {},
     "output_type": "execute_result"
    }
   ],
   "source": [
    "experiment.results_"
   ]
  },
  {
   "cell_type": "markdown",
   "metadata": {},
   "source": [
    "#### 4.4 Aggregated results across experiments"
   ]
  },
  {
   "cell_type": "code",
   "execution_count": 11,
   "metadata": {},
   "outputs": [
    {
     "data": {
      "text/html": [
       "<div>\n",
       "<table border=\"1\" class=\"dataframe\">\n",
       "  <thead>\n",
       "    <tr style=\"text-align: right;\">\n",
       "      <th></th>\n",
       "      <th>Dataset</th>\n",
       "      <th>Classifier</th>\n",
       "      <th>Oversampler</th>\n",
       "      <th>Metric</th>\n",
       "      <th>Mean CV score</th>\n",
       "      <th>Std CV score</th>\n",
       "    </tr>\n",
       "  </thead>\n",
       "  <tbody>\n",
       "    <tr>\n",
       "      <th>0</th>\n",
       "      <td>dataset1</td>\n",
       "      <td>DT1</td>\n",
       "      <td>No oversampling</td>\n",
       "      <td>f1</td>\n",
       "      <td>0.689451</td>\n",
       "      <td>0.064841</td>\n",
       "    </tr>\n",
       "    <tr>\n",
       "      <th>1</th>\n",
       "      <td>dataset1</td>\n",
       "      <td>DT1</td>\n",
       "      <td>No oversampling</td>\n",
       "      <td>geometric_mean_score</td>\n",
       "      <td>0.755530</td>\n",
       "      <td>0.046093</td>\n",
       "    </tr>\n",
       "    <tr>\n",
       "      <th>2</th>\n",
       "      <td>dataset1</td>\n",
       "      <td>DT1</td>\n",
       "      <td>No oversampling</td>\n",
       "      <td>roc_auc</td>\n",
       "      <td>0.804763</td>\n",
       "      <td>0.038830</td>\n",
       "    </tr>\n",
       "    <tr>\n",
       "      <th>...</th>\n",
       "      <td>...</td>\n",
       "      <td>...</td>\n",
       "      <td>...</td>\n",
       "      <td>...</td>\n",
       "      <td>...</td>\n",
       "      <td>...</td>\n",
       "    </tr>\n",
       "    <tr>\n",
       "      <th>1397</th>\n",
       "      <td>dataset9</td>\n",
       "      <td>LR</td>\n",
       "      <td>SMOTE2</td>\n",
       "      <td>roc_auc</td>\n",
       "      <td>0.996776</td>\n",
       "      <td>0.000423</td>\n",
       "    </tr>\n",
       "    <tr>\n",
       "      <th>1398</th>\n",
       "      <td>dataset9</td>\n",
       "      <td>LR</td>\n",
       "      <td>SMOTE2</td>\n",
       "      <td>tn</td>\n",
       "      <td>24.133333</td>\n",
       "      <td>0.182574</td>\n",
       "    </tr>\n",
       "    <tr>\n",
       "      <th>1399</th>\n",
       "      <td>dataset9</td>\n",
       "      <td>LR</td>\n",
       "      <td>SMOTE2</td>\n",
       "      <td>tp</td>\n",
       "      <td>140.666667</td>\n",
       "      <td>0.000000</td>\n",
       "    </tr>\n",
       "  </tbody>\n",
       "</table>\n",
       "<p>1400 rows × 6 columns</p>\n",
       "</div>"
      ],
      "text/plain": [
       "       Dataset Classifier      Oversampler                Metric  \\\n",
       "0     dataset1        DT1  No oversampling                    f1   \n",
       "1     dataset1        DT1  No oversampling  geometric_mean_score   \n",
       "2     dataset1        DT1  No oversampling               roc_auc   \n",
       "...        ...        ...              ...                   ...   \n",
       "1397  dataset9         LR           SMOTE2               roc_auc   \n",
       "1398  dataset9         LR           SMOTE2                    tn   \n",
       "1399  dataset9         LR           SMOTE2                    tp   \n",
       "\n",
       "      Mean CV score  Std CV score  \n",
       "0          0.689451      0.064841  \n",
       "1          0.755530      0.046093  \n",
       "2          0.804763      0.038830  \n",
       "...             ...           ...  \n",
       "1397       0.996776      0.000423  \n",
       "1398      24.133333      0.182574  \n",
       "1399     140.666667      0.000000  \n",
       "\n",
       "[1400 rows x 6 columns]"
      ]
     },
     "execution_count": 11,
     "metadata": {},
     "output_type": "execute_result"
    }
   ],
   "source": [
    "calculate_stats(experiment)"
   ]
  },
  {
   "cell_type": "markdown",
   "metadata": {},
   "source": [
    "#### 4.5 Optimal aggregated results across experiments"
   ]
  },
  {
   "cell_type": "code",
   "execution_count": 12,
   "metadata": {},
   "outputs": [
    {
     "data": {
      "text/html": [
       "<div>\n",
       "<table border=\"1\" class=\"dataframe\">\n",
       "  <thead>\n",
       "    <tr style=\"text-align: right;\">\n",
       "      <th></th>\n",
       "      <th>Dataset</th>\n",
       "      <th>Classifier</th>\n",
       "      <th>Oversampler</th>\n",
       "      <th>Metric</th>\n",
       "      <th>Mean CV score</th>\n",
       "      <th>Std CV score</th>\n",
       "    </tr>\n",
       "  </thead>\n",
       "  <tbody>\n",
       "    <tr>\n",
       "      <th>0</th>\n",
       "      <td>dataset1</td>\n",
       "      <td>LR</td>\n",
       "      <td>No oversampling</td>\n",
       "      <td>f1</td>\n",
       "      <td>0.755696</td>\n",
       "      <td>0.010817</td>\n",
       "    </tr>\n",
       "    <tr>\n",
       "      <th>1</th>\n",
       "      <td>dataset1</td>\n",
       "      <td>LR</td>\n",
       "      <td>No oversampling</td>\n",
       "      <td>geometric_mean_score</td>\n",
       "      <td>0.781964</td>\n",
       "      <td>0.007516</td>\n",
       "    </tr>\n",
       "    <tr>\n",
       "      <th>2</th>\n",
       "      <td>dataset1</td>\n",
       "      <td>LR</td>\n",
       "      <td>No oversampling</td>\n",
       "      <td>roc_auc</td>\n",
       "      <td>0.923213</td>\n",
       "      <td>0.016755</td>\n",
       "    </tr>\n",
       "    <tr>\n",
       "      <th>...</th>\n",
       "      <td>...</td>\n",
       "      <td>...</td>\n",
       "      <td>...</td>\n",
       "      <td>...</td>\n",
       "      <td>...</td>\n",
       "      <td>...</td>\n",
       "    </tr>\n",
       "    <tr>\n",
       "      <th>417</th>\n",
       "      <td>dataset14</td>\n",
       "      <td>DT</td>\n",
       "      <td>SMOTE</td>\n",
       "      <td>roc_auc</td>\n",
       "      <td>0.846433</td>\n",
       "      <td>0.032887</td>\n",
       "    </tr>\n",
       "    <tr>\n",
       "      <th>418</th>\n",
       "      <td>dataset14</td>\n",
       "      <td>DT</td>\n",
       "      <td>SMOTE</td>\n",
       "      <td>tn</td>\n",
       "      <td>40.000000</td>\n",
       "      <td>2.768875</td>\n",
       "    </tr>\n",
       "    <tr>\n",
       "      <th>419</th>\n",
       "      <td>dataset14</td>\n",
       "      <td>DT</td>\n",
       "      <td>SMOTE</td>\n",
       "      <td>tp</td>\n",
       "      <td>260.066667</td>\n",
       "      <td>2.046678</td>\n",
       "    </tr>\n",
       "  </tbody>\n",
       "</table>\n",
       "<p>420 rows × 6 columns</p>\n",
       "</div>"
      ],
      "text/plain": [
       "       Dataset Classifier      Oversampler                Metric  \\\n",
       "0     dataset1         LR  No oversampling                    f1   \n",
       "1     dataset1         LR  No oversampling  geometric_mean_score   \n",
       "2     dataset1         LR  No oversampling               roc_auc   \n",
       "..         ...        ...              ...                   ...   \n",
       "417  dataset14         DT            SMOTE               roc_auc   \n",
       "418  dataset14         DT            SMOTE                    tn   \n",
       "419  dataset14         DT            SMOTE                    tp   \n",
       "\n",
       "     Mean CV score  Std CV score  \n",
       "0         0.755696      0.010817  \n",
       "1         0.781964      0.007516  \n",
       "2         0.923213      0.016755  \n",
       "..             ...           ...  \n",
       "417       0.846433      0.032887  \n",
       "418      40.000000      2.768875  \n",
       "419     260.066667      2.046678  \n",
       "\n",
       "[420 rows x 6 columns]"
      ]
     },
     "execution_count": 12,
     "metadata": {},
     "output_type": "execute_result"
    }
   ],
   "source": [
    "calculate_optimal_stats(experiment)"
   ]
  },
  {
   "cell_type": "markdown",
   "metadata": {},
   "source": [
    "#### 4.6 Optimal aggregated results across experiments in wide format"
   ]
  },
  {
   "cell_type": "code",
   "execution_count": 13,
   "metadata": {},
   "outputs": [
    {
     "data": {
      "text/html": [
       "<div>\n",
       "<table border=\"1\" class=\"dataframe\">\n",
       "  <thead>\n",
       "    <tr style=\"text-align: right;\">\n",
       "      <th></th>\n",
       "      <th>Dataset</th>\n",
       "      <th>Classifier</th>\n",
       "      <th>Metric</th>\n",
       "      <th>No oversampling</th>\n",
       "      <th>Random oversampler</th>\n",
       "      <th>SMOTE</th>\n",
       "    </tr>\n",
       "  </thead>\n",
       "  <tbody>\n",
       "    <tr>\n",
       "      <th>0</th>\n",
       "      <td>dataset1</td>\n",
       "      <td>DT</td>\n",
       "      <td>f1</td>\n",
       "      <td>(0.768157321408, 0.0310364004143)</td>\n",
       "      <td>(0.741631224526, 0.038328297645)</td>\n",
       "      <td>(0.788369527503, 0.0237540345262)</td>\n",
       "    </tr>\n",
       "    <tr>\n",
       "      <th>1</th>\n",
       "      <td>dataset1</td>\n",
       "      <td>DT</td>\n",
       "      <td>geometric_mean_score</td>\n",
       "      <td>(0.837869027899, 0.0239272087633)</td>\n",
       "      <td>(0.851711578736, 0.0260935267616)</td>\n",
       "      <td>(0.852805014079, 0.026345661213)</td>\n",
       "    </tr>\n",
       "    <tr>\n",
       "      <th>2</th>\n",
       "      <td>dataset1</td>\n",
       "      <td>DT</td>\n",
       "      <td>roc_auc</td>\n",
       "      <td>(0.850561453173, 0.0306060642791)</td>\n",
       "      <td>(0.859054022175, 0.0278746910133)</td>\n",
       "      <td>(0.873043170559, 0.0357655067659)</td>\n",
       "    </tr>\n",
       "    <tr>\n",
       "      <th>...</th>\n",
       "      <td>...</td>\n",
       "      <td>...</td>\n",
       "      <td>...</td>\n",
       "      <td>...</td>\n",
       "      <td>...</td>\n",
       "      <td>...</td>\n",
       "    </tr>\n",
       "    <tr>\n",
       "      <th>137</th>\n",
       "      <td>dataset9</td>\n",
       "      <td>LR</td>\n",
       "      <td>roc_auc</td>\n",
       "      <td>(0.996681250624, 0.000416811630215)</td>\n",
       "      <td>(0.996756634369, 0.000401703925665)</td>\n",
       "      <td>(0.996813105584, 0.000384225127748)</td>\n",
       "    </tr>\n",
       "    <tr>\n",
       "      <th>138</th>\n",
       "      <td>dataset9</td>\n",
       "      <td>LR</td>\n",
       "      <td>tn</td>\n",
       "      <td>(23.6, 0.1490711985)</td>\n",
       "      <td>(24.1333333333, 0.182574185835)</td>\n",
       "      <td>(24.1333333333, 0.182574185835)</td>\n",
       "    </tr>\n",
       "    <tr>\n",
       "      <th>139</th>\n",
       "      <td>dataset9</td>\n",
       "      <td>LR</td>\n",
       "      <td>tp</td>\n",
       "      <td>(141.333333333, 0.0)</td>\n",
       "      <td>(140.733333333, 0.1490711985)</td>\n",
       "      <td>(140.8, 0.182574185835)</td>\n",
       "    </tr>\n",
       "  </tbody>\n",
       "</table>\n",
       "<p>140 rows × 6 columns</p>\n",
       "</div>"
      ],
      "text/plain": [
       "      Dataset Classifier                Metric  \\\n",
       "0    dataset1         DT                    f1   \n",
       "1    dataset1         DT  geometric_mean_score   \n",
       "2    dataset1         DT               roc_auc   \n",
       "..        ...        ...                   ...   \n",
       "137  dataset9         LR               roc_auc   \n",
       "138  dataset9         LR                    tn   \n",
       "139  dataset9         LR                    tp   \n",
       "\n",
       "                         No oversampling                   Random oversampler  \\\n",
       "0      (0.768157321408, 0.0310364004143)     (0.741631224526, 0.038328297645)   \n",
       "1      (0.837869027899, 0.0239272087633)    (0.851711578736, 0.0260935267616)   \n",
       "2      (0.850561453173, 0.0306060642791)    (0.859054022175, 0.0278746910133)   \n",
       "..                                   ...                                  ...   \n",
       "137  (0.996681250624, 0.000416811630215)  (0.996756634369, 0.000401703925665)   \n",
       "138                 (23.6, 0.1490711985)      (24.1333333333, 0.182574185835)   \n",
       "139                 (141.333333333, 0.0)        (140.733333333, 0.1490711985)   \n",
       "\n",
       "                                   SMOTE  \n",
       "0      (0.788369527503, 0.0237540345262)  \n",
       "1       (0.852805014079, 0.026345661213)  \n",
       "2      (0.873043170559, 0.0357655067659)  \n",
       "..                                   ...  \n",
       "137  (0.996813105584, 0.000384225127748)  \n",
       "138      (24.1333333333, 0.182574185835)  \n",
       "139              (140.8, 0.182574185835)  \n",
       "\n",
       "[140 rows x 6 columns]"
      ]
     },
     "execution_count": 13,
     "metadata": {},
     "output_type": "execute_result"
    }
   ],
   "source": [
    "calculate_optimal_stats_wide(experiment)"
   ]
  },
  {
   "cell_type": "markdown",
   "metadata": {},
   "source": [
    "#### 4.7 Oversamplers ranking"
   ]
  },
  {
   "cell_type": "code",
   "execution_count": 14,
   "metadata": {},
   "outputs": [
    {
     "data": {
      "text/html": [
       "<div>\n",
       "<table border=\"1\" class=\"dataframe\">\n",
       "  <thead>\n",
       "    <tr style=\"text-align: right;\">\n",
       "      <th></th>\n",
       "      <th>Dataset</th>\n",
       "      <th>Classifier</th>\n",
       "      <th>Metric</th>\n",
       "      <th>No oversampling</th>\n",
       "      <th>Random oversampler</th>\n",
       "      <th>SMOTE</th>\n",
       "    </tr>\n",
       "  </thead>\n",
       "  <tbody>\n",
       "    <tr>\n",
       "      <th>0</th>\n",
       "      <td>dataset1</td>\n",
       "      <td>DT</td>\n",
       "      <td>f1</td>\n",
       "      <td>2</td>\n",
       "      <td>3</td>\n",
       "      <td>1</td>\n",
       "    </tr>\n",
       "    <tr>\n",
       "      <th>1</th>\n",
       "      <td>dataset1</td>\n",
       "      <td>DT</td>\n",
       "      <td>geometric_mean_score</td>\n",
       "      <td>3</td>\n",
       "      <td>2</td>\n",
       "      <td>1</td>\n",
       "    </tr>\n",
       "    <tr>\n",
       "      <th>2</th>\n",
       "      <td>dataset1</td>\n",
       "      <td>DT</td>\n",
       "      <td>roc_auc</td>\n",
       "      <td>3</td>\n",
       "      <td>2</td>\n",
       "      <td>1</td>\n",
       "    </tr>\n",
       "    <tr>\n",
       "      <th>...</th>\n",
       "      <td>...</td>\n",
       "      <td>...</td>\n",
       "      <td>...</td>\n",
       "      <td>...</td>\n",
       "      <td>...</td>\n",
       "      <td>...</td>\n",
       "    </tr>\n",
       "    <tr>\n",
       "      <th>137</th>\n",
       "      <td>dataset9</td>\n",
       "      <td>LR</td>\n",
       "      <td>roc_auc</td>\n",
       "      <td>3</td>\n",
       "      <td>2</td>\n",
       "      <td>1</td>\n",
       "    </tr>\n",
       "    <tr>\n",
       "      <th>138</th>\n",
       "      <td>dataset9</td>\n",
       "      <td>LR</td>\n",
       "      <td>tn</td>\n",
       "      <td>3</td>\n",
       "      <td>2</td>\n",
       "      <td>1</td>\n",
       "    </tr>\n",
       "    <tr>\n",
       "      <th>139</th>\n",
       "      <td>dataset9</td>\n",
       "      <td>LR</td>\n",
       "      <td>tp</td>\n",
       "      <td>1</td>\n",
       "      <td>3</td>\n",
       "      <td>2</td>\n",
       "    </tr>\n",
       "  </tbody>\n",
       "</table>\n",
       "<p>140 rows × 6 columns</p>\n",
       "</div>"
      ],
      "text/plain": [
       "      Dataset Classifier                Metric  No oversampling  \\\n",
       "0    dataset1         DT                    f1                2   \n",
       "1    dataset1         DT  geometric_mean_score                3   \n",
       "2    dataset1         DT               roc_auc                3   \n",
       "..        ...        ...                   ...              ...   \n",
       "137  dataset9         LR               roc_auc                3   \n",
       "138  dataset9         LR                    tn                3   \n",
       "139  dataset9         LR                    tp                1   \n",
       "\n",
       "     Random oversampler  SMOTE  \n",
       "0                     3      1  \n",
       "1                     2      1  \n",
       "2                     2      1  \n",
       "..                  ...    ...  \n",
       "137                   2      1  \n",
       "138                   2      1  \n",
       "139                   3      2  \n",
       "\n",
       "[140 rows x 6 columns]"
      ]
     },
     "execution_count": 14,
     "metadata": {},
     "output_type": "execute_result"
    }
   ],
   "source": [
    "calculate_ranking(experiment)"
   ]
  },
  {
   "cell_type": "markdown",
   "metadata": {},
   "source": [
    "#### 4.8 Oversamplers mean ranking across datasets"
   ]
  },
  {
   "cell_type": "code",
   "execution_count": 15,
   "metadata": {},
   "outputs": [
    {
     "data": {
      "text/html": [
       "<div>\n",
       "<table border=\"1\" class=\"dataframe\">\n",
       "  <thead>\n",
       "    <tr style=\"text-align: right;\">\n",
       "      <th></th>\n",
       "      <th>Classifier</th>\n",
       "      <th>Metric</th>\n",
       "      <th>No oversampling</th>\n",
       "      <th>Random oversampler</th>\n",
       "      <th>SMOTE</th>\n",
       "    </tr>\n",
       "  </thead>\n",
       "  <tbody>\n",
       "    <tr>\n",
       "      <th>0</th>\n",
       "      <td>DT</td>\n",
       "      <td>f1</td>\n",
       "      <td>2.000000</td>\n",
       "      <td>2.214286</td>\n",
       "      <td>1.785714</td>\n",
       "    </tr>\n",
       "    <tr>\n",
       "      <th>1</th>\n",
       "      <td>DT</td>\n",
       "      <td>geometric_mean_score</td>\n",
       "      <td>2.714286</td>\n",
       "      <td>2.000000</td>\n",
       "      <td>1.285714</td>\n",
       "    </tr>\n",
       "    <tr>\n",
       "      <th>2</th>\n",
       "      <td>DT</td>\n",
       "      <td>roc_auc</td>\n",
       "      <td>2.500000</td>\n",
       "      <td>2.214286</td>\n",
       "      <td>1.285714</td>\n",
       "    </tr>\n",
       "    <tr>\n",
       "      <th>...</th>\n",
       "      <td>...</td>\n",
       "      <td>...</td>\n",
       "      <td>...</td>\n",
       "      <td>...</td>\n",
       "      <td>...</td>\n",
       "    </tr>\n",
       "    <tr>\n",
       "      <th>7</th>\n",
       "      <td>LR</td>\n",
       "      <td>roc_auc</td>\n",
       "      <td>1.571429</td>\n",
       "      <td>2.500000</td>\n",
       "      <td>1.928571</td>\n",
       "    </tr>\n",
       "    <tr>\n",
       "      <th>8</th>\n",
       "      <td>LR</td>\n",
       "      <td>tn</td>\n",
       "      <td>3.000000</td>\n",
       "      <td>1.500000</td>\n",
       "      <td>1.500000</td>\n",
       "    </tr>\n",
       "    <tr>\n",
       "      <th>9</th>\n",
       "      <td>LR</td>\n",
       "      <td>tp</td>\n",
       "      <td>1.000000</td>\n",
       "      <td>3.000000</td>\n",
       "      <td>2.000000</td>\n",
       "    </tr>\n",
       "  </tbody>\n",
       "</table>\n",
       "<p>10 rows × 5 columns</p>\n",
       "</div>"
      ],
      "text/plain": [
       "   Classifier                Metric  No oversampling  Random oversampler  \\\n",
       "0          DT                    f1         2.000000            2.214286   \n",
       "1          DT  geometric_mean_score         2.714286            2.000000   \n",
       "2          DT               roc_auc         2.500000            2.214286   \n",
       "..        ...                   ...              ...                 ...   \n",
       "7          LR               roc_auc         1.571429            2.500000   \n",
       "8          LR                    tn         3.000000            1.500000   \n",
       "9          LR                    tp         1.000000            3.000000   \n",
       "\n",
       "       SMOTE  \n",
       "0   1.785714  \n",
       "1   1.285714  \n",
       "2   1.285714  \n",
       "..       ...  \n",
       "7   1.928571  \n",
       "8   1.500000  \n",
       "9   2.000000  \n",
       "\n",
       "[10 rows x 5 columns]"
      ]
     },
     "execution_count": 15,
     "metadata": {},
     "output_type": "execute_result"
    }
   ],
   "source": [
    "calculate_mean_ranking(experiment)"
   ]
  },
  {
   "cell_type": "markdown",
   "metadata": {},
   "source": [
    "#### 4.9 Friedman test across datasets for every combination of classifiers and metrics"
   ]
  },
  {
   "cell_type": "code",
   "execution_count": 16,
   "metadata": {},
   "outputs": [
    {
     "data": {
      "text/html": [
       "<div>\n",
       "<table border=\"1\" class=\"dataframe\">\n",
       "  <thead>\n",
       "    <tr style=\"text-align: right;\">\n",
       "      <th></th>\n",
       "      <th>Classifier</th>\n",
       "      <th>Metric</th>\n",
       "      <th>p-value</th>\n",
       "    </tr>\n",
       "  </thead>\n",
       "  <tbody>\n",
       "    <tr>\n",
       "      <th>0</th>\n",
       "      <td>DT</td>\n",
       "      <td>f1</td>\n",
       "      <td>5.257880e-01</td>\n",
       "    </tr>\n",
       "    <tr>\n",
       "      <th>1</th>\n",
       "      <td>DT</td>\n",
       "      <td>geometric_mean_score</td>\n",
       "      <td>7.904903e-04</td>\n",
       "    </tr>\n",
       "    <tr>\n",
       "      <th>2</th>\n",
       "      <td>DT</td>\n",
       "      <td>roc_auc</td>\n",
       "      <td>3.542732e-03</td>\n",
       "    </tr>\n",
       "    <tr>\n",
       "      <th>...</th>\n",
       "      <td>...</td>\n",
       "      <td>...</td>\n",
       "      <td>...</td>\n",
       "    </tr>\n",
       "    <tr>\n",
       "      <th>7</th>\n",
       "      <td>LR</td>\n",
       "      <td>roc_auc</td>\n",
       "      <td>4.635489e-02</td>\n",
       "    </tr>\n",
       "    <tr>\n",
       "      <th>8</th>\n",
       "      <td>LR</td>\n",
       "      <td>tn</td>\n",
       "      <td>2.753645e-05</td>\n",
       "    </tr>\n",
       "    <tr>\n",
       "      <th>9</th>\n",
       "      <td>LR</td>\n",
       "      <td>tp</td>\n",
       "      <td>8.315287e-07</td>\n",
       "    </tr>\n",
       "  </tbody>\n",
       "</table>\n",
       "<p>10 rows × 3 columns</p>\n",
       "</div>"
      ],
      "text/plain": [
       "   Classifier                Metric       p-value\n",
       "0          DT                    f1  5.257880e-01\n",
       "1          DT  geometric_mean_score  7.904903e-04\n",
       "2          DT               roc_auc  3.542732e-03\n",
       "..        ...                   ...           ...\n",
       "7          LR               roc_auc  4.635489e-02\n",
       "8          LR                    tn  2.753645e-05\n",
       "9          LR                    tp  8.315287e-07\n",
       "\n",
       "[10 rows x 3 columns]"
      ]
     },
     "execution_count": 16,
     "metadata": {},
     "output_type": "execute_result"
    }
   ],
   "source": [
    "calculate_friedman_test(experiment)"
   ]
  },
  {
   "cell_type": "markdown",
   "metadata": {
    "collapsed": true
   },
   "source": [
    "# 5 Save and load experiment object"
   ]
  },
  {
   "cell_type": "markdown",
   "metadata": {},
   "source": [
    "#### 5.1 Save"
   ]
  },
  {
   "cell_type": "code",
   "execution_count": 17,
   "metadata": {},
   "outputs": [],
   "source": [
    "experiment.save('experiment.p')"
   ]
  },
  {
   "cell_type": "markdown",
   "metadata": {},
   "source": [
    "#### 5.1 Load"
   ]
  },
  {
   "cell_type": "code",
   "execution_count": 18,
   "metadata": {
    "collapsed": true
   },
   "outputs": [],
   "source": [
    "loaded_experiment = load_experiment('experiment.p')"
   ]
  }
 ],
 "metadata": {
  "kernelspec": {
   "display_name": "Python 3",
   "language": "python",
   "name": "python3"
  },
  "language_info": {
   "codemirror_mode": {
    "name": "ipython",
    "version": 3
   },
   "file_extension": ".py",
   "mimetype": "text/x-python",
   "name": "python",
   "nbconvert_exporter": "python",
   "pygments_lexer": "ipython3",
   "version": "3.6.2"
  }
 },
 "nbformat": 4,
 "nbformat_minor": 2
}
