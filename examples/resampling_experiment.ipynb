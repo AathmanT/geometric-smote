{
 "cells": [
  {
   "cell_type": "markdown",
   "metadata": {},
   "source": [
    "# 1 Introduction"
   ]
  },
  {
   "cell_type": "markdown",
   "metadata": {},
   "source": [
    "This notebook demonstrates the functionality of hyperlearn module on the comparison of oversamplers on imbalanced datasets."
   ]
  },
  {
   "cell_type": "markdown",
   "metadata": {},
   "source": [
    "# 2 Imports"
   ]
  },
  {
   "cell_type": "code",
   "execution_count": 13,
   "metadata": {},
   "outputs": [],
   "source": [
    "from hyperlearn.experiment import ResamplingExperiment\n",
    "from hyperlearn.analysis import extract_results\n",
    "from sklearn.datasets import load_breast_cancer, load_iris\n",
    "from sklearn.linear_model import LogisticRegression\n",
    "from sklearn.tree import DecisionTreeClassifier\n",
    "from imblearn.over_sampling import SMOTE, RandomOverSampler"
   ]
  },
  {
   "cell_type": "markdown",
   "metadata": {},
   "source": [
    "# 3 Experiment"
   ]
  },
  {
   "cell_type": "markdown",
   "metadata": {},
   "source": [
    "##### 3.1 Configure experiment"
   ]
  },
  {
   "cell_type": "code",
   "execution_count": 180,
   "metadata": {},
   "outputs": [],
   "source": [
    "bc = load_breast_cancer()\n",
    "iris = load_iris()\n",
    "\n",
    "datasets = [\n",
    "    ('bc', (bc.data, bc.target)),\n",
    "    ('iris', (iris.data, iris.target))\n",
    "]\n",
    "\n",
    "smote_param_grid = [\n",
    "    dict(kind=['borderline1', 'borderline2'], k_neighbors=[3, 6], ),\n",
    "    dict(k_neighbors=[2, 4])\n",
    "]\n",
    "\n",
    "dt_param_grid = [\n",
    "    dict(max_depth=[2, 5]), \n",
    "    dict(criterion=['gini', 'entropy'], max_depth=[3, 6])\n",
    "]\n",
    "\n",
    "classifiers = [\n",
    "    ('LR', LogisticRegression()), \n",
    "    ('DT', DecisionTreeClassifier(), dt_param_grid)\n",
    "]\n",
    "\n",
    "oversamplers = [\n",
    "    ('No oversampling', None), \n",
    "    ('Random oversampler', RandomOverSampler()), \n",
    "    ('SMOTE', SMOTE(), smote_param_grid)\n",
    "]"
   ]
  },
  {
   "cell_type": "code",
   "execution_count": 3,
   "metadata": {},
   "outputs": [],
   "source": [
    "experiment = ResamplingExperiment(datasets, estimators, n_jobs=-1)"
   ]
  },
  {
   "cell_type": "markdown",
   "metadata": {},
   "source": [
    "#### 3.2 Run experiment"
   ]
  },
  {
   "cell_type": "code",
   "execution_count": 4,
   "metadata": {},
   "outputs": [
    {
     "name": "stderr",
     "output_type": "stream",
     "text": [
      "100% (20 of 20) |#########################| Elapsed Time: 0:00:19 ETA:  0:00:00"
     ]
    }
   ],
   "source": [
    "experiment.run()"
   ]
  }
 ],
 "metadata": {
  "kernelspec": {
   "display_name": "Python 3",
   "language": "python",
   "name": "python3"
  },
  "language_info": {
   "codemirror_mode": {
    "name": "ipython",
    "version": 3
   },
   "file_extension": ".py",
   "mimetype": "text/x-python",
   "name": "python",
   "nbconvert_exporter": "python",
   "pygments_lexer": "ipython3",
   "version": "3.6.3"
  }
 },
 "nbformat": 4,
 "nbformat_minor": 2
}
